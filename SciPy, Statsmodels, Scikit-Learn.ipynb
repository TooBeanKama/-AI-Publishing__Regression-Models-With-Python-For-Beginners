{
 "cells": [
  {
   "cell_type": "markdown",
   "id": "89139e45",
   "metadata": {},
   "source": [
    "# SciPy\n",
    "+ library for linear algebra operations,\n",
    "+ also used in Fourier Transformers\n",
    "+ to calculate permutations and combinations\n",
    "\n",
    "SciPy library depends on NumPy for all its operations"
   ]
  },
  {
   "cell_type": "markdown",
   "id": "08654102",
   "metadata": {},
   "source": [
    "Тэги\n",
    "+ scipy\n",
    "+ scipe__exp10\n",
    "+ scipe__permutations_and_combinations\n",
    "+ scipy__linalg__det\n",
    "+ scipy__linalg__inv\n",
    "+ statsmodels__api\n",
    "+ statsmodels__formula__api\n",
    "+ sm__datasets__get_rdataset\n",
    "+ sklearn__linear_model\n",
    "+ sklearn__model_selection\n",
    "+ sklearn__LinearRegression\n",
    "+ sklearn__train_test_split\n",
    "+ os__chdir\n",
    "+ os__getcwd\n",
    "+ pandas__dropna\n",
    "+ pandas__drop\n",
    "+ plt__scatter"
   ]
  },
  {
   "cell_type": "code",
   "execution_count": 7,
   "id": "1de064e1",
   "metadata": {},
   "outputs": [
    {
     "name": "stdout",
     "output_type": "stream",
     "text": [
      "[1.e+01 1.e+10]\n"
     ]
    }
   ],
   "source": [
    "import scipy\n",
    "import numpy as np\n",
    "\n",
    "from scipy.special import exp10\n",
    "\n",
    "exp = exp10([1,10])\n",
    "print(exp)"
   ]
  },
  {
   "cell_type": "code",
   "execution_count": 2,
   "id": "e635fc99",
   "metadata": {},
   "outputs": [
    {
     "data": {
      "text/plain": [
       "numpy.ndarray"
      ]
     },
     "execution_count": 2,
     "metadata": {},
     "output_type": "execute_result"
    }
   ],
   "source": [
    "type(exp)"
   ]
  },
  {
   "cell_type": "markdown",
   "id": "770edacd",
   "metadata": {},
   "source": [
    "### to calculate permutations and combinations"
   ]
  },
  {
   "cell_type": "code",
   "execution_count": 4,
   "id": "dfd163bf",
   "metadata": {},
   "outputs": [
    {
     "data": {
      "text/plain": [
       "10.0"
      ]
     },
     "execution_count": 4,
     "metadata": {},
     "output_type": "execute_result"
    }
   ],
   "source": [
    "from scipy.special import comb, perm\n",
    "com = comb(5, 2, exact=False)\n",
    "com"
   ]
  },
  {
   "cell_type": "code",
   "execution_count": 5,
   "id": "d924afa6",
   "metadata": {},
   "outputs": [
    {
     "data": {
      "text/plain": [
       "20.0"
      ]
     },
     "execution_count": 5,
     "metadata": {},
     "output_type": "execute_result"
    }
   ],
   "source": [
    "per = perm(5, 2, exact=False)\n",
    "per"
   ]
  },
  {
   "cell_type": "markdown",
   "id": "6451cc93",
   "metadata": {},
   "source": [
    "## Детерминант матрицы"
   ]
  },
  {
   "cell_type": "code",
   "execution_count": 9,
   "id": "fa5c5330",
   "metadata": {},
   "outputs": [
    {
     "data": {
      "text/plain": [
       "array([[2, 3],\n",
       "       [4, 5]])"
      ]
     },
     "execution_count": 9,
     "metadata": {},
     "output_type": "execute_result"
    }
   ],
   "source": [
    "two_d_array = np.array([[2, 3], [4, 5]])\n",
    "two_d_array"
   ]
  },
  {
   "cell_type": "code",
   "execution_count": 10,
   "id": "5522e079",
   "metadata": {},
   "outputs": [
    {
     "data": {
      "text/plain": [
       "-2.0000000000000004"
      ]
     },
     "execution_count": 10,
     "metadata": {},
     "output_type": "execute_result"
    }
   ],
   "source": [
    "scipy.linalg.det(two_d_array)"
   ]
  },
  {
   "cell_type": "markdown",
   "id": "0289515a",
   "metadata": {},
   "source": [
    "### Inverse matrix"
   ]
  },
  {
   "cell_type": "code",
   "execution_count": 12,
   "id": "8d0453bb",
   "metadata": {},
   "outputs": [
    {
     "data": {
      "text/plain": [
       "array([[-2.5,  1.5],\n",
       "       [ 2. , -1. ]])"
      ]
     },
     "execution_count": 12,
     "metadata": {},
     "output_type": "execute_result"
    }
   ],
   "source": [
    "scipy.linalg.inv(two_d_array)"
   ]
  },
  {
   "cell_type": "code",
   "execution_count": 13,
   "id": "89f2159c",
   "metadata": {},
   "outputs": [
    {
     "data": {
      "text/plain": [
       "array([[2., 3.],\n",
       "       [4., 5.]])"
      ]
     },
     "execution_count": 13,
     "metadata": {},
     "output_type": "execute_result"
    }
   ],
   "source": [
    "scipy.linalg.inv(scipy.linalg.inv(two_d_array))"
   ]
  },
  {
   "cell_type": "markdown",
   "id": "62a4b8e0",
   "metadata": {},
   "source": [
    "# Statsmodels\n",
    "Statsmodels is a Python library that provides many functions that \n",
    "+ help to estimate many different statistical models,\n",
    "+ along with conducting tactical tests and \n",
    "+ statistical data exploration."
   ]
  },
  {
   "cell_type": "code",
   "execution_count": 24,
   "id": "869a9dc7",
   "metadata": {},
   "outputs": [],
   "source": [
    "#pip install -U statsmodels"
   ]
  },
  {
   "cell_type": "code",
   "execution_count": 16,
   "id": "25846c3b",
   "metadata": {},
   "outputs": [],
   "source": [
    "import numpy as np\n",
    "import statsmodels.api as sm\n",
    "import statsmodels.formula.api as smf"
   ]
  },
  {
   "cell_type": "code",
   "execution_count": 23,
   "id": "4ac17622",
   "metadata": {},
   "outputs": [],
   "source": [
    "data = sm.datasets.get_rdataset('Guerry', 'HistData').data"
   ]
  },
  {
   "cell_type": "code",
   "execution_count": 26,
   "id": "bc24498f",
   "metadata": {},
   "outputs": [
    {
     "data": {
      "text/html": [
       "<div>\n",
       "<style scoped>\n",
       "    .dataframe tbody tr th:only-of-type {\n",
       "        vertical-align: middle;\n",
       "    }\n",
       "\n",
       "    .dataframe tbody tr th {\n",
       "        vertical-align: top;\n",
       "    }\n",
       "\n",
       "    .dataframe thead th {\n",
       "        text-align: right;\n",
       "    }\n",
       "</style>\n",
       "<table border=\"1\" class=\"dataframe\">\n",
       "  <thead>\n",
       "    <tr style=\"text-align: right;\">\n",
       "      <th></th>\n",
       "      <th>dept</th>\n",
       "      <th>Region</th>\n",
       "      <th>Department</th>\n",
       "      <th>Crime_pers</th>\n",
       "      <th>Crime_prop</th>\n",
       "      <th>Literacy</th>\n",
       "      <th>Donations</th>\n",
       "      <th>Infants</th>\n",
       "      <th>Suicides</th>\n",
       "      <th>MainCity</th>\n",
       "      <th>...</th>\n",
       "      <th>Crime_parents</th>\n",
       "      <th>Infanticide</th>\n",
       "      <th>Donation_clergy</th>\n",
       "      <th>Lottery</th>\n",
       "      <th>Desertion</th>\n",
       "      <th>Instruction</th>\n",
       "      <th>Prostitutes</th>\n",
       "      <th>Distance</th>\n",
       "      <th>Area</th>\n",
       "      <th>Pop1831</th>\n",
       "    </tr>\n",
       "  </thead>\n",
       "  <tbody>\n",
       "    <tr>\n",
       "      <th>0</th>\n",
       "      <td>1</td>\n",
       "      <td>E</td>\n",
       "      <td>Ain</td>\n",
       "      <td>28870</td>\n",
       "      <td>15890</td>\n",
       "      <td>37</td>\n",
       "      <td>5098</td>\n",
       "      <td>33120</td>\n",
       "      <td>35039</td>\n",
       "      <td>2:Med</td>\n",
       "      <td>...</td>\n",
       "      <td>71</td>\n",
       "      <td>60</td>\n",
       "      <td>69</td>\n",
       "      <td>41</td>\n",
       "      <td>55</td>\n",
       "      <td>46</td>\n",
       "      <td>13</td>\n",
       "      <td>218.372</td>\n",
       "      <td>5762</td>\n",
       "      <td>346.03</td>\n",
       "    </tr>\n",
       "    <tr>\n",
       "      <th>1</th>\n",
       "      <td>2</td>\n",
       "      <td>N</td>\n",
       "      <td>Aisne</td>\n",
       "      <td>26226</td>\n",
       "      <td>5521</td>\n",
       "      <td>51</td>\n",
       "      <td>8901</td>\n",
       "      <td>14572</td>\n",
       "      <td>12831</td>\n",
       "      <td>2:Med</td>\n",
       "      <td>...</td>\n",
       "      <td>4</td>\n",
       "      <td>82</td>\n",
       "      <td>36</td>\n",
       "      <td>38</td>\n",
       "      <td>82</td>\n",
       "      <td>24</td>\n",
       "      <td>327</td>\n",
       "      <td>65.945</td>\n",
       "      <td>7369</td>\n",
       "      <td>513.00</td>\n",
       "    </tr>\n",
       "    <tr>\n",
       "      <th>2</th>\n",
       "      <td>3</td>\n",
       "      <td>C</td>\n",
       "      <td>Allier</td>\n",
       "      <td>26747</td>\n",
       "      <td>7925</td>\n",
       "      <td>13</td>\n",
       "      <td>10973</td>\n",
       "      <td>17044</td>\n",
       "      <td>114121</td>\n",
       "      <td>2:Med</td>\n",
       "      <td>...</td>\n",
       "      <td>46</td>\n",
       "      <td>42</td>\n",
       "      <td>76</td>\n",
       "      <td>66</td>\n",
       "      <td>16</td>\n",
       "      <td>85</td>\n",
       "      <td>34</td>\n",
       "      <td>161.927</td>\n",
       "      <td>7340</td>\n",
       "      <td>298.26</td>\n",
       "    </tr>\n",
       "    <tr>\n",
       "      <th>3</th>\n",
       "      <td>4</td>\n",
       "      <td>E</td>\n",
       "      <td>Basses-Alpes</td>\n",
       "      <td>12935</td>\n",
       "      <td>7289</td>\n",
       "      <td>46</td>\n",
       "      <td>2733</td>\n",
       "      <td>23018</td>\n",
       "      <td>14238</td>\n",
       "      <td>1:Sm</td>\n",
       "      <td>...</td>\n",
       "      <td>70</td>\n",
       "      <td>12</td>\n",
       "      <td>37</td>\n",
       "      <td>80</td>\n",
       "      <td>32</td>\n",
       "      <td>29</td>\n",
       "      <td>2</td>\n",
       "      <td>351.399</td>\n",
       "      <td>6925</td>\n",
       "      <td>155.90</td>\n",
       "    </tr>\n",
       "    <tr>\n",
       "      <th>4</th>\n",
       "      <td>5</td>\n",
       "      <td>E</td>\n",
       "      <td>Hautes-Alpes</td>\n",
       "      <td>17488</td>\n",
       "      <td>8174</td>\n",
       "      <td>69</td>\n",
       "      <td>6962</td>\n",
       "      <td>23076</td>\n",
       "      <td>16171</td>\n",
       "      <td>1:Sm</td>\n",
       "      <td>...</td>\n",
       "      <td>22</td>\n",
       "      <td>23</td>\n",
       "      <td>64</td>\n",
       "      <td>79</td>\n",
       "      <td>35</td>\n",
       "      <td>7</td>\n",
       "      <td>1</td>\n",
       "      <td>320.280</td>\n",
       "      <td>5549</td>\n",
       "      <td>129.10</td>\n",
       "    </tr>\n",
       "  </tbody>\n",
       "</table>\n",
       "<p>5 rows × 23 columns</p>\n",
       "</div>"
      ],
      "text/plain": [
       "   dept Region    Department  Crime_pers  Crime_prop  Literacy  Donations  \\\n",
       "0     1      E           Ain       28870       15890        37       5098   \n",
       "1     2      N         Aisne       26226        5521        51       8901   \n",
       "2     3      C        Allier       26747        7925        13      10973   \n",
       "3     4      E  Basses-Alpes       12935        7289        46       2733   \n",
       "4     5      E  Hautes-Alpes       17488        8174        69       6962   \n",
       "\n",
       "   Infants  Suicides MainCity  ...  Crime_parents  Infanticide  \\\n",
       "0    33120     35039    2:Med  ...             71           60   \n",
       "1    14572     12831    2:Med  ...              4           82   \n",
       "2    17044    114121    2:Med  ...             46           42   \n",
       "3    23018     14238     1:Sm  ...             70           12   \n",
       "4    23076     16171     1:Sm  ...             22           23   \n",
       "\n",
       "   Donation_clergy  Lottery  Desertion  Instruction  Prostitutes  Distance  \\\n",
       "0               69       41         55           46           13   218.372   \n",
       "1               36       38         82           24          327    65.945   \n",
       "2               76       66         16           85           34   161.927   \n",
       "3               37       80         32           29            2   351.399   \n",
       "4               64       79         35            7            1   320.280   \n",
       "\n",
       "   Area  Pop1831  \n",
       "0  5762   346.03  \n",
       "1  7369   513.00  \n",
       "2  7340   298.26  \n",
       "3  6925   155.90  \n",
       "4  5549   129.10  \n",
       "\n",
       "[5 rows x 23 columns]"
      ]
     },
     "execution_count": 26,
     "metadata": {},
     "output_type": "execute_result"
    }
   ],
   "source": [
    "data.head()"
   ]
  },
  {
   "cell_type": "code",
   "execution_count": 27,
   "id": "6147b53c",
   "metadata": {},
   "outputs": [
    {
     "data": {
      "text/plain": [
       "Index(['dept', 'Region', 'Department', 'Crime_pers', 'Crime_prop', 'Literacy',\n",
       "       'Donations', 'Infants', 'Suicides', 'MainCity', 'Wealth', 'Commerce',\n",
       "       'Clergy', 'Crime_parents', 'Infanticide', 'Donation_clergy', 'Lottery',\n",
       "       'Desertion', 'Instruction', 'Prostitutes', 'Distance', 'Area',\n",
       "       'Pop1831'],\n",
       "      dtype='object')"
      ]
     },
     "execution_count": 27,
     "metadata": {},
     "output_type": "execute_result"
    }
   ],
   "source": [
    "data.columns"
   ]
  },
  {
   "cell_type": "code",
   "execution_count": 29,
   "id": "6e86902a",
   "metadata": {},
   "outputs": [
    {
     "data": {
      "text/plain": [
       "<statsmodels.regression.linear_model.RegressionResultsWrapper at 0x26642ef9450>"
      ]
     },
     "execution_count": 29,
     "metadata": {},
     "output_type": "execute_result"
    }
   ],
   "source": [
    "results = smf.ols('Lottery~Literacy + np.log(Pop1831)', data).fit()\n",
    "results"
   ]
  },
  {
   "cell_type": "code",
   "execution_count": 30,
   "id": "0da0a770",
   "metadata": {},
   "outputs": [
    {
     "name": "stdout",
     "output_type": "stream",
     "text": [
      "                            OLS Regression Results                            \n",
      "==============================================================================\n",
      "Dep. Variable:                Lottery   R-squared:                       0.348\n",
      "Model:                            OLS   Adj. R-squared:                  0.333\n",
      "Method:                 Least Squares   F-statistic:                     22.20\n",
      "Date:                Sun, 21 Apr 2024   Prob (F-statistic):           1.90e-08\n",
      "Time:                        15:32:06   Log-Likelihood:                -379.82\n",
      "No. Observations:                  86   AIC:                             765.6\n",
      "Df Residuals:                      83   BIC:                             773.0\n",
      "Df Model:                           2                                         \n",
      "Covariance Type:            nonrobust                                         \n",
      "===================================================================================\n",
      "                      coef    std err          t      P>|t|      [0.025      0.975]\n",
      "-----------------------------------------------------------------------------------\n",
      "Intercept         246.4341     35.233      6.995      0.000     176.358     316.510\n",
      "Literacy           -0.4889      0.128     -3.832      0.000      -0.743      -0.235\n",
      "np.log(Pop1831)   -31.3114      5.977     -5.239      0.000     -43.199     -19.424\n",
      "==============================================================================\n",
      "Omnibus:                        3.713   Durbin-Watson:                   2.019\n",
      "Prob(Omnibus):                  0.156   Jarque-Bera (JB):                3.394\n",
      "Skew:                          -0.487   Prob(JB):                        0.183\n",
      "Kurtosis:                       3.003   Cond. No.                         702.\n",
      "==============================================================================\n",
      "\n",
      "Notes:\n",
      "[1] Standard Errors assume that the covariance matrix of the errors is correctly specified.\n"
     ]
    }
   ],
   "source": [
    "print(results.summary())"
   ]
  },
  {
   "cell_type": "markdown",
   "id": "912994b0",
   "metadata": {},
   "source": [
    "# Scikit-Learn"
   ]
  },
  {
   "cell_type": "code",
   "execution_count": 48,
   "id": "451fcd3b",
   "metadata": {},
   "outputs": [],
   "source": [
    "from sklearn.linear_model import LinearRegression\n",
    "from sklearn.model_selection import train_test_split\n",
    "\n",
    "import pandas as pd\n",
    "import os\n",
    "import matplotlib.pyplot as plt"
   ]
  },
  {
   "cell_type": "code",
   "execution_count": 33,
   "id": "7704ba44",
   "metadata": {},
   "outputs": [],
   "source": [
    "lm = LinearRegression()"
   ]
  },
  {
   "cell_type": "code",
   "execution_count": 36,
   "id": "b3c5a699",
   "metadata": {},
   "outputs": [
    {
     "data": {
      "text/plain": [
       "'C:\\\\excels'"
      ]
     },
     "execution_count": 36,
     "metadata": {},
     "output_type": "execute_result"
    }
   ],
   "source": [
    "os.chdir('C:\\excels')\n",
    "os.getcwd()"
   ]
  },
  {
   "cell_type": "code",
   "execution_count": 38,
   "id": "da5f212c",
   "metadata": {},
   "outputs": [
    {
     "data": {
      "text/html": [
       "<div>\n",
       "<style scoped>\n",
       "    .dataframe tbody tr th:only-of-type {\n",
       "        vertical-align: middle;\n",
       "    }\n",
       "\n",
       "    .dataframe tbody tr th {\n",
       "        vertical-align: top;\n",
       "    }\n",
       "\n",
       "    .dataframe thead th {\n",
       "        text-align: right;\n",
       "    }\n",
       "</style>\n",
       "<table border=\"1\" class=\"dataframe\">\n",
       "  <thead>\n",
       "    <tr style=\"text-align: right;\">\n",
       "      <th></th>\n",
       "      <th>Name</th>\n",
       "      <th>Type</th>\n",
       "      <th>AWD</th>\n",
       "      <th>RWD</th>\n",
       "      <th>Retail Price</th>\n",
       "      <th>Dealer Cost</th>\n",
       "      <th>Engine Size (l)</th>\n",
       "      <th>Cyl</th>\n",
       "      <th>Horsepower(HP)</th>\n",
       "      <th>City Miles Per Gallon</th>\n",
       "      <th>Highway Miles Per Gallon</th>\n",
       "      <th>Weight</th>\n",
       "      <th>Wheel Base</th>\n",
       "      <th>Len</th>\n",
       "      <th>Width</th>\n",
       "    </tr>\n",
       "  </thead>\n",
       "  <tbody>\n",
       "    <tr>\n",
       "      <th>0</th>\n",
       "      <td>Acura 3.5 RL 4dr</td>\n",
       "      <td>Sedan</td>\n",
       "      <td>0</td>\n",
       "      <td>0</td>\n",
       "      <td>43755</td>\n",
       "      <td>39014</td>\n",
       "      <td>3.5</td>\n",
       "      <td>6</td>\n",
       "      <td>225</td>\n",
       "      <td>18</td>\n",
       "      <td>24</td>\n",
       "      <td>3880</td>\n",
       "      <td>115</td>\n",
       "      <td>197</td>\n",
       "      <td>72</td>\n",
       "    </tr>\n",
       "    <tr>\n",
       "      <th>1</th>\n",
       "      <td>Acura 3.5 RL w/Navigation 4dr</td>\n",
       "      <td>Sedan</td>\n",
       "      <td>0</td>\n",
       "      <td>0</td>\n",
       "      <td>46100</td>\n",
       "      <td>41100</td>\n",
       "      <td>3.5</td>\n",
       "      <td>6</td>\n",
       "      <td>225</td>\n",
       "      <td>18</td>\n",
       "      <td>24</td>\n",
       "      <td>3893</td>\n",
       "      <td>115</td>\n",
       "      <td>197</td>\n",
       "      <td>72</td>\n",
       "    </tr>\n",
       "    <tr>\n",
       "      <th>2</th>\n",
       "      <td>Acura MDX</td>\n",
       "      <td>SUV</td>\n",
       "      <td>1</td>\n",
       "      <td>0</td>\n",
       "      <td>36945</td>\n",
       "      <td>33337</td>\n",
       "      <td>3.5</td>\n",
       "      <td>6</td>\n",
       "      <td>265</td>\n",
       "      <td>17</td>\n",
       "      <td>23</td>\n",
       "      <td>4451</td>\n",
       "      <td>106</td>\n",
       "      <td>189</td>\n",
       "      <td>77</td>\n",
       "    </tr>\n",
       "    <tr>\n",
       "      <th>3</th>\n",
       "      <td>Acura NSX coupe 2dr manual S</td>\n",
       "      <td>Sports Car</td>\n",
       "      <td>0</td>\n",
       "      <td>1</td>\n",
       "      <td>89765</td>\n",
       "      <td>79978</td>\n",
       "      <td>3.2</td>\n",
       "      <td>6</td>\n",
       "      <td>290</td>\n",
       "      <td>17</td>\n",
       "      <td>24</td>\n",
       "      <td>3153</td>\n",
       "      <td>100</td>\n",
       "      <td>174</td>\n",
       "      <td>71</td>\n",
       "    </tr>\n",
       "    <tr>\n",
       "      <th>4</th>\n",
       "      <td>Acura RSX Type S 2dr</td>\n",
       "      <td>Sedan</td>\n",
       "      <td>0</td>\n",
       "      <td>0</td>\n",
       "      <td>23820</td>\n",
       "      <td>21761</td>\n",
       "      <td>2.0</td>\n",
       "      <td>4</td>\n",
       "      <td>200</td>\n",
       "      <td>24</td>\n",
       "      <td>31</td>\n",
       "      <td>2778</td>\n",
       "      <td>101</td>\n",
       "      <td>172</td>\n",
       "      <td>68</td>\n",
       "    </tr>\n",
       "  </tbody>\n",
       "</table>\n",
       "</div>"
      ],
      "text/plain": [
       "                            Name        Type  AWD  RWD  Retail Price  \\\n",
       "0               Acura 3.5 RL 4dr       Sedan    0    0         43755   \n",
       "1  Acura 3.5 RL w/Navigation 4dr       Sedan    0    0         46100   \n",
       "2                      Acura MDX         SUV    1    0         36945   \n",
       "3   Acura NSX coupe 2dr manual S  Sports Car    0    1         89765   \n",
       "4           Acura RSX Type S 2dr       Sedan    0    0         23820   \n",
       "\n",
       "   Dealer Cost  Engine Size (l)  Cyl  Horsepower(HP)  City Miles Per Gallon  \\\n",
       "0        39014              3.5    6             225                     18   \n",
       "1        41100              3.5    6             225                     18   \n",
       "2        33337              3.5    6             265                     17   \n",
       "3        79978              3.2    6             290                     17   \n",
       "4        21761              2.0    4             200                     24   \n",
       "\n",
       "   Highway Miles Per Gallon  Weight  Wheel Base  Len  Width  \n",
       "0                        24    3880         115  197     72  \n",
       "1                        24    3893         115  197     72  \n",
       "2                        23    4451         106  189     77  \n",
       "3                        24    3153         100  174     71  \n",
       "4                        31    2778         101  172     68  "
      ]
     },
     "execution_count": 38,
     "metadata": {},
     "output_type": "execute_result"
    }
   ],
   "source": [
    "cars_df = pd.read_csv('cars_db.csv')\n",
    "cars_df.head()"
   ]
  },
  {
   "cell_type": "code",
   "execution_count": 39,
   "id": "e1c2e5f3",
   "metadata": {},
   "outputs": [
    {
     "name": "stdout",
     "output_type": "stream",
     "text": [
      "<class 'pandas.core.frame.DataFrame'>\n",
      "RangeIndex: 387 entries, 0 to 386\n",
      "Data columns (total 15 columns):\n",
      " #   Column                    Non-Null Count  Dtype  \n",
      "---  ------                    --------------  -----  \n",
      " 0   Name                      387 non-null    object \n",
      " 1   Type                      387 non-null    object \n",
      " 2   AWD                       387 non-null    int64  \n",
      " 3   RWD                       387 non-null    int64  \n",
      " 4   Retail Price              387 non-null    int64  \n",
      " 5   Dealer Cost               387 non-null    int64  \n",
      " 6   Engine Size (l)           387 non-null    float64\n",
      " 7   Cyl                       387 non-null    int64  \n",
      " 8   Horsepower(HP)            387 non-null    int64  \n",
      " 9   City Miles Per Gallon     387 non-null    int64  \n",
      " 10  Highway Miles Per Gallon  387 non-null    int64  \n",
      " 11  Weight                    387 non-null    int64  \n",
      " 12  Wheel Base                387 non-null    int64  \n",
      " 13  Len                       387 non-null    int64  \n",
      " 14  Width                     387 non-null    int64  \n",
      "dtypes: float64(1), int64(12), object(2)\n",
      "memory usage: 45.5+ KB\n"
     ]
    }
   ],
   "source": [
    "cars_df.info()"
   ]
  },
  {
   "cell_type": "markdown",
   "id": "3524f5c2",
   "metadata": {},
   "source": [
    "Уберем ряд столбцов"
   ]
  },
  {
   "cell_type": "code",
   "execution_count": 77,
   "id": "b91f4904",
   "metadata": {},
   "outputs": [
    {
     "data": {
      "text/plain": [
       "Index(['Engine Size (l)', 'Horsepower(HP)'], dtype='object')"
      ]
     },
     "execution_count": 77,
     "metadata": {},
     "output_type": "execute_result"
    }
   ],
   "source": [
    "x = cars_df.dropna().drop(columns=['Name', 'Type', \n",
    "                                   'City Miles Per Gallon', \n",
    "                                   'Highway Miles Per Gallon',\n",
    "                                  'Retail Price',\n",
    "                                   'Dealer Cost',\n",
    "                                  'Weight',\n",
    "                       'Wheel Base', 'Len', 'Width',\n",
    "                                  'AWD', 'RWD',\n",
    "                                  'Cyl',])\n",
    "x.columns"
   ]
  },
  {
   "cell_type": "code",
   "execution_count": 78,
   "id": "e1c9f110",
   "metadata": {},
   "outputs": [
    {
     "data": {
      "text/plain": [
       "Index(['Name', 'Type', 'AWD', 'RWD', 'Retail Price', 'Dealer Cost',\n",
       "       'Engine Size (l)', 'Cyl', 'Horsepower(HP)', 'City Miles Per Gallon',\n",
       "       'Highway Miles Per Gallon', 'Weight', 'Wheel Base', 'Len', 'Width'],\n",
       "      dtype='object')"
      ]
     },
     "execution_count": 78,
     "metadata": {},
     "output_type": "execute_result"
    }
   ],
   "source": [
    "cars_df.columns"
   ]
  },
  {
   "cell_type": "code",
   "execution_count": 79,
   "id": "e10b9d21",
   "metadata": {},
   "outputs": [
    {
     "data": {
      "text/plain": [
       "0    18\n",
       "1    18\n",
       "2    17\n",
       "3    17\n",
       "4    24\n",
       "Name: City Miles Per Gallon, dtype: int64"
      ]
     },
     "execution_count": 79,
     "metadata": {},
     "output_type": "execute_result"
    }
   ],
   "source": [
    "y = cars_df.dropna()['City Miles Per Gallon']\n",
    "y[:5]"
   ]
  },
  {
   "cell_type": "code",
   "execution_count": 80,
   "id": "f9fd1257",
   "metadata": {},
   "outputs": [],
   "source": [
    "X_train, X_test, y_train, y_test = train_test_split(x,y, test_size=0.3, \n",
    "                                                   random_state=42)"
   ]
  },
  {
   "cell_type": "code",
   "execution_count": 81,
   "id": "346abfb2",
   "metadata": {},
   "outputs": [
    {
     "data": {
      "text/plain": [
       "array([22.27661461, 22.26969106, 24.91112685, 23.90706527, 24.42367583,\n",
       "       26.62313077, 23.50662571, 24.09839706, 22.27661461, 24.35989856,\n",
       "       22.41009447, 24.36582389, 27.62373057, 24.35989856, 24.42367583,\n",
       "       22.49118059, 22.65381998, 24.57446455, 23.6415709 , 24.66147601,\n",
       "       25.32294995, 28.48592341, 24.04647046, 24.22641871, 24.54677036,\n",
       "       24.22641871, 24.64563248, 23.04141067, 23.19912293, 24.24372758,\n",
       "       24.02223805, 23.5763283 , 24.98082944, 22.49118059, 23.71919526,\n",
       "       22.68397772, 25.99034923, 22.0561233 , 24.01285094, 22.65381998,\n",
       "       26.7042169 , 23.00186582, 24.02223805, 25.19439721, 22.0561233 ,\n",
       "       23.72711702, 21.65568373, 25.02137251, 27.15112486, 24.35989856,\n",
       "       22.0561233 , 22.26969106, 22.49710593, 23.96145543, 23.38153474,\n",
       "       22.60735158, 24.23187691, 23.19912293, 23.44038489, 25.89887778,\n",
       "       22.27661461, 25.53105951, 22.85700243, 28.48592341, 25.51474886,\n",
       "       24.35989856, 22.49710593, 22.79076161, 22.49710593, 22.31615946,\n",
       "       23.06564308, 24.1750232 , 26.04866828, 26.08328602, 21.77877827,\n",
       "       24.777647  , 22.10259169, 21.42826887, 24.20664628, 24.97636945,\n",
       "       23.36276053, 25.41588674, 22.78729983, 27.08142226, 23.96145543,\n",
       "       26.04374117, 25.17808656, 30.93356385, 24.42367583, 30.93356385,\n",
       "       21.65568373, 23.5763283 , 22.87431129, 22.35670252, 24.22641871,\n",
       "       22.27661461, 25.92311019, 23.17043053, 26.88416515, 24.76033813,\n",
       "       22.68397772, 23.36176232, 23.76220188, 21.58498292, 23.08887728,\n",
       "       25.32887528, 22.93216322, 26.52426865, 25.69422999, 25.8914871 ,\n",
       "       22.76406564, 25.95080438, 21.42826887, 23.96145543, 24.22641871,\n",
       "       21.58498292, 24.63870894])"
      ]
     },
     "execution_count": 81,
     "metadata": {},
     "output_type": "execute_result"
    }
   ],
   "source": [
    "lm.fit(X_train, y_train)\n",
    "lm.predict(X_test)"
   ]
  },
  {
   "cell_type": "code",
   "execution_count": 86,
   "id": "3d6a460b",
   "metadata": {},
   "outputs": [
    {
     "data": {
      "text/plain": [
       "array([-0.23234198,  0.02669597])"
      ]
     },
     "execution_count": 86,
     "metadata": {},
     "output_type": "execute_result"
    }
   ],
   "source": [
    "lm.coef_"
   ]
  },
  {
   "cell_type": "code",
   "execution_count": 87,
   "id": "f20774ab",
   "metadata": {},
   "outputs": [
    {
     "data": {
      "text/plain": [
       "19.050331020583634"
      ]
     },
     "execution_count": 87,
     "metadata": {},
     "output_type": "execute_result"
    }
   ],
   "source": [
    "lm.intercept_"
   ]
  },
  {
   "cell_type": "code",
   "execution_count": 82,
   "id": "dc1d3ee4",
   "metadata": {},
   "outputs": [
    {
     "data": {
      "text/plain": [
       "<matplotlib.collections.PathCollection at 0x26646ef3350>"
      ]
     },
     "execution_count": 82,
     "metadata": {},
     "output_type": "execute_result"
    },
    {
     "data": {
      "image/png": "[encoded data removed]",
      "text/plain": [
       "<Figure size 640x480 with 1 Axes>"
      ]
     },
     "metadata": {},
     "output_type": "display_data"
    }
   ],
   "source": [
    "plt.scatter(y_test, lm.predict(X_test))"
   ]
  },
  {
   "cell_type": "code",
   "execution_count": 103,
   "id": "5acff1a3",
   "metadata": {},
   "outputs": [
    {
     "data": {
      "image/png": "[encoded data removed]",
      "text/plain": [
       "<Figure size 640x480 with 1 Axes>"
      ]
     },
     "metadata": {},
     "output_type": "display_data"
    }
   ],
   "source": [
    "plt.scatter(y_test, lm.predict(X_test))\n",
    "plt.title('Fitted values')\n",
    "plt.show()"
   ]
  },
  {
   "cell_type": "code",
   "execution_count": 106,
   "id": "721f4f3a",
   "metadata": {},
   "outputs": [
    {
     "data": {
      "text/plain": [
       "<matplotlib.collections.PathCollection at 0x2664e4b9050>"
      ]
     },
     "execution_count": 106,
     "metadata": {},
     "output_type": "execute_result"
    },
    {
     "data": {
      "image/png": "[encoded data removed]",
      "text/plain": [
       "<Figure size 640x480 with 1 Axes>"
      ]
     },
     "metadata": {},
     "output_type": "display_data"
    }
   ],
   "source": [
    "predicted  = lm.intercept_ + lm.coef_[0] * X_test['Engine Size (l)'] +\\\n",
    "                lm.coef_[1] * X_test['Horsepower(HP)']\n",
    "\n",
    "plt.scatter(y_test, predicted , marker='x', color='r')"
   ]
  },
  {
   "cell_type": "code",
   "execution_count": null,
   "id": "47c034c2",
   "metadata": {},
   "outputs": [],
   "source": []
  }
 ],
 "metadata": {
  "kernelspec": {
   "display_name": "Python 3 (ipykernel)",
   "language": "python",
   "name": "python3"
  },
  "language_info": {
   "codemirror_mode": {
    "name": "ipython",
    "version": 3
   },
   "file_extension": ".py",
   "mimetype": "text/x-python",
   "name": "python",
   "nbconvert_exporter": "python",
   "pygments_lexer": "ipython3",
   "version": "3.11.4"
  }
 },
 "nbformat": 4,
 "nbformat_minor": 5
}
